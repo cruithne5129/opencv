{
 "cells": [
  {
   "cell_type": "code",
   "execution_count": 5,
   "metadata": {},
   "outputs": [],
   "source": [
    "import cv2\n",
    "\n",
    "img_file = \"c:/data/lenna.jpg\" # 이미지 파일 경로\n",
    "img = cv2.imread(img_file) # 이미지 파일 로드(Numpy 형태)\n",
    "\n",
    "if img is not None:\n",
    "    cv2.imshow('IMG',img) # 창을 띄우고 그 안에 이미지 파일 표시\n",
    "    cv2.waitKey() # 키입력 대기 (기본값 무한)\n",
    "    cv2.destroyAllWindows() # 모든 창 닫기\n",
    "else:\n",
    "    print('No Image') # 이미지 파일 로딩 에러시 메시지 출력\n",
    "               "
   ]
  },
  {
   "cell_type": "code",
   "execution_count": 7,
   "metadata": {},
   "outputs": [],
   "source": [
    "import cv2\n",
    "\n",
    "img_file = \"c:/data/lenna.jpg\"\n",
    "img = cv2.imread(img_file, cv2.IMREAD_GRAYSCALE) # 이미지 파일 그레이스케일로 로딩\n",
    "\n",
    "if img is not None:\n",
    "    cv2.imshow('IMG',img)\n",
    "    cv2.waitKey()\n",
    "    cv2.destroyAllWindows()\n",
    "else:\n",
    "    print('No Image')"
   ]
  },
  {
   "cell_type": "code",
   "execution_count": 9,
   "metadata": {},
   "outputs": [
    {
     "name": "stdout",
     "output_type": "stream",
     "text": [
      "video file can't open\n"
     ]
    }
   ],
   "source": [
    "import cv2\n",
    "\n",
    "video_file = \"c:/data/a,mp4\" # 비디오 파일 경로\n",
    "\n",
    "cap = cv2.VideoCapture(video_file) # 비디오 파일 캡쳐 객체 \n",
    "if cap.isOpened(): # 캡쳐 객체 초기화 확인\n",
    "    while True:\n",
    "        ret, img = cap.read() #이미지 로딩 여부와 프레임을 이미지로 변환한 img객체 \n",
    "        if ret: # 로딩 여부가 트루인 경우\n",
    "            cv2.imshow(video_file, img) # 프레임을 창에 띄움\n",
    "            cv2.waitKey(25) # 25ms만큼 지연\n",
    "        else: \n",
    "            break\n",
    "else: # 캡쳐 객체 초기화 실패시\n",
    "    print(\"video file can't open\")\n",
    "cap.release() # 캡쳐 자원 반납\n",
    "cv2.destroyAllWindows()"
   ]
  },
  {
   "cell_type": "code",
   "execution_count": 14,
   "metadata": {},
   "outputs": [],
   "source": [
    "import cv2\n",
    "\n",
    "img = cv2.imread('c:/data/blank500.jpg')\n",
    "\n",
    "cv2.line(img, (50,50),(150,50),(255,0,0))\n",
    "cv2.line(img, (200,50),(300,50),(0,255,0))\n",
    "cv2.line(img, (350,50),(450,50),(0,0,255)) # 직선 긋기 1픽셀\n",
    "\n",
    "cv2.line(img, (50,150),(150,150),(255,0,0),10)\n",
    "cv2.line(img, (200,150),(300,150),(0,255,0),10)\n",
    "cv2.line(img, (350,150),(450,150),(0,0,255),10) # 10픽셀 직선\n",
    "\n",
    "cv2.line(img, (50,250),(150,350),(255,0,0),10,cv2.LINE_4) # 대각선 그을떄 발생하는 계단현상 완화(브레젠햄 4연결)\n",
    "cv2.line(img, (200,250),(300,350),(0,255,0),10,cv2.LINE_8) # 대각선 그을떄 발생하는 계단현상 완화(브레젠햄 8연결)\n",
    "cv2.line(img, (350,250),(450,350),(0,0,255),10,cv2.LINE_AA) # 대각선 그을떄 발생하는 계단현상 완화(가우시안 필터)\n",
    "\n",
    "cv2.imshow('lines',img)\n",
    "cv2.waitKey(0)\n",
    "cv2.destroyAllWindows()"
   ]
  },
  {
   "cell_type": "code",
   "execution_count": 15,
   "metadata": {},
   "outputs": [],
   "source": [
    "import cv2\n",
    "\n",
    "img = cv2.imread('c:/data/blank500.jpg')\n",
    "\n",
    "cv2.rectangle(img, (50,50),(150,150),(255,0,0)) # 점 두개로 사각형 만들기\n",
    "cv2.rectangle(img, (100,100),(300,300),(0,255,0),10) # 10픽셀 선으로 사각형 만들기\n",
    "cv2.rectangle(img, (200,400),(400,200),(0,0,255), -1) # 꽉채운 사각형 만들기\n",
    "\n",
    "cv2.imshow('rectangle',img)\n",
    "cv2.waitKey(0)\n",
    "cv2.destroyAllWindows()"
   ]
  },
  {
   "cell_type": "code",
   "execution_count": null,
   "metadata": {},
   "outputs": [],
   "source": []
  }
 ],
 "metadata": {
  "kernelspec": {
   "display_name": "Python 3",
   "language": "python",
   "name": "python3"
  },
  "language_info": {
   "codemirror_mode": {
    "name": "ipython",
    "version": 3
   },
   "file_extension": ".py",
   "mimetype": "text/x-python",
   "name": "python",
   "nbconvert_exporter": "python",
   "pygments_lexer": "ipython3",
   "version": "3.7.5"
  }
 },
 "nbformat": 4,
 "nbformat_minor": 2
}
